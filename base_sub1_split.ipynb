{
 "cells": [
  {
   "cell_type": "code",
   "execution_count": null,
   "id": "17c88cb8",
   "metadata": {},
   "outputs": [],
   "source": [
    "import random\n",
    "\n",
    "import sys\n",
    "random.seed(42)\n",
    "\n",
    "TRAIN=open('train.csv','w')\n",
    "TEST=open('test.csv','w')\n",
    "\n",
    "REF=open('/dream olfaction/TASK1_training.csv','r')\n",
    "headline=REF.readline()\n",
    "TRAIN.write(headline)\n",
    "TEST.write(headline)\n",
    "for line in REF:\n",
    "    rrr=random.random()\n",
    "    if (rrr<0.7):\n",
    "        TRAIN.write(line)\n",
    "    else:\n",
    "        TEST.write(line)\n",
    "REF.close()\n",
    "TRAIN.close()\n",
    "TEST.close()"
   ]
  },
  {
   "cell_type": "code",
   "execution_count": null,
   "id": "77d8e3f0",
   "metadata": {},
   "outputs": [],
   "source": []
  }
 ],
 "metadata": {
  "kernelspec": {
   "display_name": "Python 3 (ipykernel)",
   "language": "python",
   "name": "python3"
  },
  "language_info": {
   "codemirror_mode": {
    "name": "ipython",
    "version": 3
   },
   "file_extension": ".py",
   "mimetype": "text/x-python",
   "name": "python",
   "nbconvert_exporter": "python",
   "pygments_lexer": "ipython3",
   "version": "3.11.5"
  }
 },
 "nbformat": 4,
 "nbformat_minor": 5
}
